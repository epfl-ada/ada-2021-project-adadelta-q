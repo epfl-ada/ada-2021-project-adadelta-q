{
 "cells": [
  {
   "cell_type": "code",
   "execution_count": 46,
   "metadata": {
    "collapsed": true
   },
   "outputs": [],
   "source": [
    "import pandas as pd\n",
    "from sklearn.manifold import TSNE\n",
    "import matplotlib.pyplot as plt\n",
    "%matplotlib inline\n",
    "import logging\n",
    "from importlib import reload\n",
    "from src import embeddings_filter\n",
    "from tqdm import tqdm\n",
    "import collections\n",
    "import json\n",
    "import bz2"
   ]
  },
  {
   "cell_type": "code",
   "execution_count": 52,
   "outputs": [],
   "source": [
    "# df = pd.io.json.read_json('data/data', lines=True,encoding='utf-8', encoding_errors='ignore')\n",
    "# df.sample(10)\n",
    "list_of_dict = []\n",
    "k = 0\n",
    "with bz2.open('data/cosine.json.bz2', 'rb') as s_file:\n",
    "    while k < 328740:\n",
    "        d =  json.loads(next(s_file))\n",
    "        list_of_dict.append(d)\n",
    "        k+=1\n",
    "\n",
    "df = pd.DataFrame(list_of_dict)"
   ],
   "metadata": {
    "collapsed": false,
    "pycharm": {
     "name": "#%%\n"
    }
   }
  },
  {
   "cell_type": "code",
   "execution_count": 69,
   "outputs": [
    {
     "data": {
      "text/plain": "0.2808758616447449"
     },
     "execution_count": 69,
     "metadata": {},
     "output_type": "execute_result"
    }
   ],
   "source": [
    "df.describe()"
   ],
   "metadata": {
    "collapsed": false,
    "pycharm": {
     "name": "#%%\n"
    }
   }
  },
  {
   "cell_type": "code",
   "execution_count": 70,
   "outputs": [
    {
     "data": {
      "text/plain": "                  quoteID                                          quotation  \\\n57637   2015-02-19-049382  It would be hard to see him leave, but I would...   \n222762  2015-09-15-090072  The fact that overconfident populations are ev...   \n212275  2015-09-13-046397  The market understands that UQ is theoretical ...   \n40799   2015-12-03-032639  highlight corruption schemes principally invol...   \n135172  2015-09-07-013841  Gen Z's constant demand for workstyle innovati...   \n14101   2015-05-13-004079  Are we worried about China? If it's relative t...   \n134944  2015-02-27-016240  Falling positive customer experience ratings c...   \n282633  2015-07-17-015048  Consumption habits have shifted, and a signifi...   \n196573  2015-03-31-075032  The share of digital origination of credit is ...   \n134937  2015-06-26-068822  With the drought in California and Arizona and...   \n\n                               speaker  \\\n57637                   John Schneider   \n222762            Jon Huntsman , Jr. .   \n212275                    Bob O'Connor   \n40799   Attorney General Loretta Lynch   \n135172                     David Mills   \n14101                     Carlos Ghosn   \n134944               Jean Lassignardie   \n282633                 Michael Loubser   \n196573                      Kunal Bahl   \n134937                      Rick Doyle   \n\n                                                     qids  \\\n57637   [Q16832535, Q16984394, Q1701691, Q20404155, Q2...   \n222762                                           [Q11607]   \n212275                                         [Q4933538]   \n40799                                          [Q6680965]   \n135172  [Q1175691, Q19918299, Q21452753, Q25189625, Q3...   \n14101                                           [Q356719]   \n134944                                        [Q33221137]   \n282633                                        [Q20981687]   \n196573                                        [Q19665061]   \n134937                                         [Q1249097]   \n\n                       date  numOccurrences  \\\n57637   2015-02-19 22:50:00               1   \n222762  2015-09-15 19:00:00               2   \n212275  2015-09-13 09:38:49               1   \n40799   2015-12-03 14:59:45               1   \n135172  2015-09-07 13:30:11               1   \n14101   2015-05-13 07:09:29               1   \n134944  2015-02-27 12:15:00               1   \n282633  2015-07-17 17:31:02               2   \n196573  2015-03-31 10:41:00               1   \n134937  2015-06-26 23:03:16               1   \n\n                                                     urls  \\\n57637   [http://www.seahawks.com/news/articles/article...   \n222762  [http://blogs.alternet.org/environment/climate...   \n212275  [http://www.afr.com/leadership/management/busi...   \n40799   [http://wusa9.com/story/sports/soccer/2015/12/...   \n135172  [http://www.microscope.co.uk/news/4500253018/G...   \n14101   [http://uk.reuters.com/article/2015/05/13/uk-n...   \n134944  [http://www.bobsguide.com/guide/news/2015/Feb/...   \n282633  [http://www.smartbrief.com/servlet/rdrc?u=/new...   \n196573  [http://www.dnaindia.com/money/report-snapdeal...   \n134937  [http://www.reviewjournal.com/business/economi...   \n\n                                                tokenized  cosine_similarity  \n57637   it would hard see leav i would think market wo...                0.0  \n222762  the fact overconfid popul evolutionarili stabl...                0.0  \n212275  the market understand uq theoret social griffi...                0.0  \n40799   highlight corrupt scheme princip involv soccer...                0.0  \n135172  gen zs constant demand workstyl innov everpres...                0.0  \n14101              are worri china if rel market evolut\\n                0.0  \n134944  fall posit custom experi rate coupl grow numbe...                0.0  \n282633  consumpt habit shift signific portion market g...                0.0  \n196573  the share digit origin credit pois grow today ...                0.0  \n134937  with drought california arizona southern nevad...                0.0  ",
      "text/html": "<div>\n<style scoped>\n    .dataframe tbody tr th:only-of-type {\n        vertical-align: middle;\n    }\n\n    .dataframe tbody tr th {\n        vertical-align: top;\n    }\n\n    .dataframe thead th {\n        text-align: right;\n    }\n</style>\n<table border=\"1\" class=\"dataframe\">\n  <thead>\n    <tr style=\"text-align: right;\">\n      <th></th>\n      <th>quoteID</th>\n      <th>quotation</th>\n      <th>speaker</th>\n      <th>qids</th>\n      <th>date</th>\n      <th>numOccurrences</th>\n      <th>urls</th>\n      <th>tokenized</th>\n      <th>cosine_similarity</th>\n    </tr>\n  </thead>\n  <tbody>\n    <tr>\n      <th>57637</th>\n      <td>2015-02-19-049382</td>\n      <td>It would be hard to see him leave, but I would...</td>\n      <td>John Schneider</td>\n      <td>[Q16832535, Q16984394, Q1701691, Q20404155, Q2...</td>\n      <td>2015-02-19 22:50:00</td>\n      <td>1</td>\n      <td>[http://www.seahawks.com/news/articles/article...</td>\n      <td>it would hard see leav i would think market wo...</td>\n      <td>0.0</td>\n    </tr>\n    <tr>\n      <th>222762</th>\n      <td>2015-09-15-090072</td>\n      <td>The fact that overconfident populations are ev...</td>\n      <td>Jon Huntsman , Jr. .</td>\n      <td>[Q11607]</td>\n      <td>2015-09-15 19:00:00</td>\n      <td>2</td>\n      <td>[http://blogs.alternet.org/environment/climate...</td>\n      <td>the fact overconfid popul evolutionarili stabl...</td>\n      <td>0.0</td>\n    </tr>\n    <tr>\n      <th>212275</th>\n      <td>2015-09-13-046397</td>\n      <td>The market understands that UQ is theoretical ...</td>\n      <td>Bob O'Connor</td>\n      <td>[Q4933538]</td>\n      <td>2015-09-13 09:38:49</td>\n      <td>1</td>\n      <td>[http://www.afr.com/leadership/management/busi...</td>\n      <td>the market understand uq theoret social griffi...</td>\n      <td>0.0</td>\n    </tr>\n    <tr>\n      <th>40799</th>\n      <td>2015-12-03-032639</td>\n      <td>highlight corruption schemes principally invol...</td>\n      <td>Attorney General Loretta Lynch</td>\n      <td>[Q6680965]</td>\n      <td>2015-12-03 14:59:45</td>\n      <td>1</td>\n      <td>[http://wusa9.com/story/sports/soccer/2015/12/...</td>\n      <td>highlight corrupt scheme princip involv soccer...</td>\n      <td>0.0</td>\n    </tr>\n    <tr>\n      <th>135172</th>\n      <td>2015-09-07-013841</td>\n      <td>Gen Z's constant demand for workstyle innovati...</td>\n      <td>David Mills</td>\n      <td>[Q1175691, Q19918299, Q21452753, Q25189625, Q3...</td>\n      <td>2015-09-07 13:30:11</td>\n      <td>1</td>\n      <td>[http://www.microscope.co.uk/news/4500253018/G...</td>\n      <td>gen zs constant demand workstyl innov everpres...</td>\n      <td>0.0</td>\n    </tr>\n    <tr>\n      <th>14101</th>\n      <td>2015-05-13-004079</td>\n      <td>Are we worried about China? If it's relative t...</td>\n      <td>Carlos Ghosn</td>\n      <td>[Q356719]</td>\n      <td>2015-05-13 07:09:29</td>\n      <td>1</td>\n      <td>[http://uk.reuters.com/article/2015/05/13/uk-n...</td>\n      <td>are worri china if rel market evolut\\n</td>\n      <td>0.0</td>\n    </tr>\n    <tr>\n      <th>134944</th>\n      <td>2015-02-27-016240</td>\n      <td>Falling positive customer experience ratings c...</td>\n      <td>Jean Lassignardie</td>\n      <td>[Q33221137]</td>\n      <td>2015-02-27 12:15:00</td>\n      <td>1</td>\n      <td>[http://www.bobsguide.com/guide/news/2015/Feb/...</td>\n      <td>fall posit custom experi rate coupl grow numbe...</td>\n      <td>0.0</td>\n    </tr>\n    <tr>\n      <th>282633</th>\n      <td>2015-07-17-015048</td>\n      <td>Consumption habits have shifted, and a signifi...</td>\n      <td>Michael Loubser</td>\n      <td>[Q20981687]</td>\n      <td>2015-07-17 17:31:02</td>\n      <td>2</td>\n      <td>[http://www.smartbrief.com/servlet/rdrc?u=/new...</td>\n      <td>consumpt habit shift signific portion market g...</td>\n      <td>0.0</td>\n    </tr>\n    <tr>\n      <th>196573</th>\n      <td>2015-03-31-075032</td>\n      <td>The share of digital origination of credit is ...</td>\n      <td>Kunal Bahl</td>\n      <td>[Q19665061]</td>\n      <td>2015-03-31 10:41:00</td>\n      <td>1</td>\n      <td>[http://www.dnaindia.com/money/report-snapdeal...</td>\n      <td>the share digit origin credit pois grow today ...</td>\n      <td>0.0</td>\n    </tr>\n    <tr>\n      <th>134937</th>\n      <td>2015-06-26-068822</td>\n      <td>With the drought in California and Arizona and...</td>\n      <td>Rick Doyle</td>\n      <td>[Q1249097]</td>\n      <td>2015-06-26 23:03:16</td>\n      <td>1</td>\n      <td>[http://www.reviewjournal.com/business/economi...</td>\n      <td>with drought california arizona southern nevad...</td>\n      <td>0.0</td>\n    </tr>\n  </tbody>\n</table>\n</div>"
     },
     "execution_count": 70,
     "metadata": {},
     "output_type": "execute_result"
    }
   ],
   "source": [
    "df.sort_values(by='cosine_similarity',ascending=True).head(10)"
   ],
   "metadata": {
    "collapsed": false,
    "pycharm": {
     "name": "#%%\n"
    }
   }
  },
  {
   "cell_type": "code",
   "execution_count": 76,
   "outputs": [],
   "source": [
    "df[df.quantile(q=0.05)['cosine_similarity'] >df['cosine_similarity']].to_pickle('sample_data.pkl.zip')"
   ],
   "metadata": {
    "collapsed": false,
    "pycharm": {
     "name": "#%%\n"
    }
   }
  },
  {
   "cell_type": "markdown",
   "source": [
    "## Preprocessing\n",
    "We have the following stats for the preprocessing:\n",
    "Finished initial Preprocessing\n",
    "Total processed Quotes:  20874338\n",
    "Of which no speaker:  7016300\n",
    "Of which uncertain:  6560\n",
    "Of which not tokenizable:  0\n",
    "Total Quotes written:  13851478\n",
    "\n",
    "## Filtering\n",
    "We load our pretrained fasttext model. We test the model by finding the closet terms to market."
   ],
   "metadata": {
    "collapsed": false,
    "pycharm": {
     "name": "#%% md\n"
    }
   }
  },
  {
   "cell_type": "code",
   "execution_count": 2,
   "outputs": [
    {
     "name": "stderr",
     "output_type": "stream",
     "text": [
      "[nltk_data] Downloading package stopwords to /home/simon/nltk_data...\n",
      "[nltk_data]   Package stopwords is already up-to-date!\n",
      "[nltk_data] Downloading package punkt to /home/simon/nltk_data...\n",
      "[nltk_data]   Package punkt is already up-to-date!\n",
      "Warning : `load_model` does not return WordVectorModel or SupervisedModel any more, but a `FastText` object which is very similar.\n"
     ]
    },
    {
     "data": {
      "text/plain": "[(0.950352668762207, 'marketq'),\n (0.9497827887535095, 'marketg'),\n (0.948558509349823, 'market6'),\n (0.9429478049278259, 'marketbymarket'),\n (0.9422717094421387, 'marketyet'),\n (0.9384009838104248, 'marketpric'),\n (0.9382206797599792, 'marketit'),\n (0.9377272725105286, 'onmarket'),\n (0.9374149441719055, 'marketgo'),\n (0.9372236728668213, 'marketsit')]"
     },
     "execution_count": 2,
     "metadata": {},
     "output_type": "execute_result"
    }
   ],
   "source": [
    "# convenience for faster testing in notebook\n",
    "reload(embeddings_filter)\n",
    "\n",
    "model = embeddings_filter.load_embeddings(get_model=True)\n",
    "model.get_nearest_neighbors('market')"
   ],
   "metadata": {
    "collapsed": false,
    "pycharm": {
     "name": "#%%\n"
    }
   }
  },
  {
   "cell_type": "markdown",
   "source": [
    "As we can see, they are almost synonyms as expected.\n",
    "\n",
    "We define our keywords and setup functions to measure the similarity:"
   ],
   "metadata": {
    "collapsed": false,
    "pycharm": {
     "name": "#%% md\n"
    }
   }
  },
  {
   "cell_type": "code",
   "execution_count": 24,
   "outputs": [
    {
     "name": "stdout",
     "output_type": "stream",
     "text": [
      "Simiarity failed for:  to have all that.\n",
      "Simiarity failed for:  is not what we're about.\n"
     ]
    }
   ],
   "source": [
    "# setup\n",
    "keywords = ['market','stocks', 'trade', 'bonds']\n",
    "similarity = embeddings_filter.get_similarity_measure(keywords, model)\n",
    "generator = embeddings_filter.data_gen()\n",
    "\n",
    "PROBABILITY_THRESHOLD = 0.5\n",
    "\n",
    "i = 0\n",
    "speakers = collections.defaultdict(list)\n",
    "for data in generator:\n",
    "    # Ignore if speaker is uncertain or none\n",
    "    if data['speaker'] == 'None' or float(data['probas'][0][1]) < PROBABILITY_THRESHOLD:\n",
    "        continue\n",
    "    score = similarity(data['quotation'])\n",
    "    if score == 0:\n",
    "        continue\n",
    "    speakers[data['speaker']].append(similarity(data['quotation']))\n",
    "\n",
    "    i += 1\n",
    "    if i > 100000:\n",
    "        break"
   ],
   "metadata": {
    "collapsed": false,
    "pycharm": {
     "name": "#%%\n"
    }
   }
  },
  {
   "cell_type": "code",
   "execution_count": 25,
   "outputs": [],
   "source": [
    "for k in speakers:\n",
    "    speakers[k] = sum(speakers[k])/len(speakers[k])"
   ],
   "metadata": {
    "collapsed": false,
    "pycharm": {
     "name": "#%%\n"
    }
   }
  },
  {
   "cell_type": "code",
   "execution_count": 26,
   "outputs": [
    {
     "data": {
      "text/plain": "array([[<AxesSubplot:title={'center':'similarity'}>]], dtype=object)"
     },
     "execution_count": 26,
     "metadata": {},
     "output_type": "execute_result"
    },
    {
     "data": {
      "text/plain": "<Figure size 432x288 with 1 Axes>",
      "image/png": "[encoded data removed]"
     },
     "metadata": {
      "needs_background": "light"
     },
     "output_type": "display_data"
    }
   ],
   "source": [
    "speakers_df = pd.DataFrame.from_dict(speakers, orient='index', columns=['similarity']).sort_values('similarity', ascending=False)\n",
    "speakers_df.hist()"
   ],
   "metadata": {
    "collapsed": false,
    "pycharm": {
     "name": "#%%\n"
    }
   }
  },
  {
   "cell_type": "code",
   "execution_count": null,
   "outputs": [],
   "source": [],
   "metadata": {
    "collapsed": false,
    "pycharm": {
     "name": "#%%\n"
    }
   }
  }
 ],
 "metadata": {
  "kernelspec": {
   "display_name": "Python 3",
   "language": "python",
   "name": "python3"
  },
  "language_info": {
   "codemirror_mode": {
    "name": "ipython",
    "version": 2
   },
   "file_extension": ".py",
   "mimetype": "text/x-python",
   "name": "python",
   "nbconvert_exporter": "python",
   "pygments_lexer": "ipython2",
   "version": "2.7.6"
  }
 },
 "nbformat": 4,
 "nbformat_minor": 0
}