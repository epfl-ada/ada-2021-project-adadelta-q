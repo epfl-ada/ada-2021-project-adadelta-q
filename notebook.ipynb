{
 "cells": [
  {
   "cell_type": "code",
   "execution_count": 79,
   "metadata": {
    "collapsed": true
   },
   "outputs": [],
   "source": [
    "import pandas as pd\n",
    "from sklearn.manifold import TSNE\n",
    "import matplotlib.pyplot as plt\n",
    "%matplotlib inline\n",
    "import logging\n",
    "from importlib import reload\n",
    "from src import embeddings_filter\n",
    "from tqdm import tqdm\n",
    "import collections\n",
    "import json\n",
    "import bz2"
   ]
  },
  {
   "cell_type": "code",
   "execution_count": null,
   "outputs": [],
   "source": [
    "# df = pd.io.json.read_json('data/data', lines=True,encoding='utf-8', encoding_errors='ignore')\n",
    "# df.sample(10)\n",
    "list_of_dict = []\n",
    "k = 0\n",
    "with bz2.open('data/cosine.json.bz2', 'rb') as s_file:\n",
    "    while True:\n",
    "        try:\n",
    "            d =  json.loads(next(s_file))\n",
    "            list_of_dict.append(d)\n",
    "            k+=1\n",
    "        except StopIteration:\n",
    "            break\n",
    "\n",
    "df = pd.DataFrame(list_of_dict)"
   ],
   "metadata": {
    "collapsed": false,
    "pycharm": {
     "name": "#%%\n",
     "is_executing": true
    }
   }
  },
  {
   "cell_type": "code",
   "execution_count": null,
   "outputs": [],
   "source": [
    "df.describe()"
   ],
   "metadata": {
    "collapsed": false,
    "pycharm": {
     "name": "#%%\n",
     "is_executing": true
    }
   }
  },
  {
   "cell_type": "code",
   "execution_count": null,
   "outputs": [],
   "source": [
    "df.sort_values(by='cosine_similarity',ascending=True).head(10)"
   ],
   "metadata": {
    "collapsed": false,
    "pycharm": {
     "name": "#%%\n",
     "is_executing": true
    }
   }
  },
  {
   "cell_type": "code",
   "execution_count": null,
   "outputs": [],
   "source": [
    "df[df.quantile(q=0.05)['cosine_similarity'] >df['cosine_similarity']].sample(15)"
   ],
   "metadata": {
    "collapsed": false,
    "pycharm": {
     "name": "#%%\n",
     "is_executing": true
    }
   }
  },
  {
   "cell_type": "code",
   "execution_count": 76,
   "outputs": [],
   "source": [
    "df[df.quantile(q=0.05)['cosine_similarity'] >df['cosine_similarity']].to_pickle('sample_data.pkl.zip')"
   ],
   "metadata": {
    "collapsed": false,
    "pycharm": {
     "name": "#%%\n"
    }
   }
  },
  {
   "cell_type": "markdown",
   "source": [
    "## Preprocessing\n",
    "We have the following stats for the preprocessing:\n",
    "Finished initial Preprocessing\n",
    "Total processed Quotes:  20874338\n",
    "Of which no speaker:  7016300\n",
    "Of which uncertain:  6560\n",
    "Of which not tokenizable:  0\n",
    "Total Quotes written:  13851478\n",
    "avg similarity:  0.5109067554857766\n",
    "median similarity:  0.4909448027610779\n",
    "\n",
    "## Filtering\n",
    "We load our pretrained fasttext model. We test the model by finding the closet terms to market."
   ],
   "metadata": {
    "collapsed": false,
    "pycharm": {
     "name": "#%% md\n"
    }
   }
  },
  {
   "cell_type": "code",
   "execution_count": 2,
   "outputs": [
    {
     "name": "stderr",
     "output_type": "stream",
     "text": [
      "[nltk_data] Downloading package stopwords to /home/simon/nltk_data...\n",
      "[nltk_data]   Package stopwords is already up-to-date!\n",
      "[nltk_data] Downloading package punkt to /home/simon/nltk_data...\n",
      "[nltk_data]   Package punkt is already up-to-date!\n",
      "Warning : `load_model` does not return WordVectorModel or SupervisedModel any more, but a `FastText` object which is very similar.\n"
     ]
    },
    {
     "data": {
      "text/plain": "[(0.950352668762207, 'marketq'),\n (0.9497827887535095, 'marketg'),\n (0.948558509349823, 'market6'),\n (0.9429478049278259, 'marketbymarket'),\n (0.9422717094421387, 'marketyet'),\n (0.9384009838104248, 'marketpric'),\n (0.9382206797599792, 'marketit'),\n (0.9377272725105286, 'onmarket'),\n (0.9374149441719055, 'marketgo'),\n (0.9372236728668213, 'marketsit')]"
     },
     "execution_count": 2,
     "metadata": {},
     "output_type": "execute_result"
    }
   ],
   "source": [
    "# convenience for faster testing in notebook\n",
    "reload(embeddings_filter)\n",
    "\n",
    "model = embeddings_filter.load_embeddings(get_model=True)\n",
    "model.get_nearest_neighbors('market')"
   ],
   "metadata": {
    "collapsed": false,
    "pycharm": {
     "name": "#%%\n"
    }
   }
  },
  {
   "cell_type": "markdown",
   "source": [
    "As we can see, they are almost synonyms as expected.\n",
    "\n",
    "We define our keywords and setup functions to measure the similarity:"
   ],
   "metadata": {
    "collapsed": false,
    "pycharm": {
     "name": "#%% md\n"
    }
   }
  },
  {
   "cell_type": "code",
   "execution_count": 24,
   "outputs": [
    {
     "name": "stdout",
     "output_type": "stream",
     "text": [
      "Simiarity failed for:  to have all that.\n",
      "Simiarity failed for:  is not what we're about.\n"
     ]
    }
   ],
   "source": [
    "# setup\n",
    "keywords = ['market','stocks', 'trade', 'bonds']\n",
    "similarity = embeddings_filter.get_similarity_measure(keywords, model)\n",
    "generator = embeddings_filter.data_gen()\n",
    "\n",
    "PROBABILITY_THRESHOLD = 0.5\n",
    "\n",
    "i = 0\n",
    "speakers = collections.defaultdict(list)\n",
    "for data in generator:\n",
    "    # Ignore if speaker is uncertain or none\n",
    "    if data['speaker'] == 'None' or float(data['probas'][0][1]) < PROBABILITY_THRESHOLD:\n",
    "        continue\n",
    "    score = similarity(data['quotation'])\n",
    "    if score == 0:\n",
    "        continue\n",
    "    speakers[data['speaker']].append(similarity(data['quotation']))\n",
    "\n",
    "    i += 1\n",
    "    if i > 100000:\n",
    "        break"
   ],
   "metadata": {
    "collapsed": false,
    "pycharm": {
     "name": "#%%\n"
    }
   }
  },
  {
   "cell_type": "code",
   "execution_count": 25,
   "outputs": [],
   "source": [
    "for k in speakers:\n",
    "    speakers[k] = sum(speakers[k])/len(speakers[k])"
   ],
   "metadata": {
    "collapsed": false,
    "pycharm": {
     "name": "#%%\n"
    }
   }
  },
  {
   "cell_type": "code",
   "execution_count": 26,
   "outputs": [
    {
     "data": {
      "text/plain": "array([[<AxesSubplot:title={'center':'similarity'}>]], dtype=object)"
     },
     "execution_count": 26,
     "metadata": {},
     "output_type": "execute_result"
    },
    {
     "data": {
      "text/plain": "<Figure size 432x288 with 1 Axes>",
      "image/png": "[encoded data removed]"
     },
     "metadata": {
      "needs_background": "light"
     },
     "output_type": "display_data"
    }
   ],
   "source": [
    "speakers_df = pd.DataFrame.from_dict(speakers, orient='index', columns=['similarity']).sort_values('similarity', ascending=False)\n",
    "speakers_df.hist()"
   ],
   "metadata": {
    "collapsed": false,
    "pycharm": {
     "name": "#%%\n"
    }
   }
  },
  {
   "cell_type": "code",
   "execution_count": null,
   "outputs": [],
   "source": [],
   "metadata": {
    "collapsed": false,
    "pycharm": {
     "name": "#%%\n"
    }
   }
  }
 ],
 "metadata": {
  "kernelspec": {
   "display_name": "Python 3",
   "language": "python",
   "name": "python3"
  },
  "language_info": {
   "codemirror_mode": {
    "name": "ipython",
    "version": 2
   },
   "file_extension": ".py",
   "mimetype": "text/x-python",
   "name": "python",
   "nbconvert_exporter": "python",
   "pygments_lexer": "ipython2",
   "version": "2.7.6"
  }
 },
 "nbformat": 4,
 "nbformat_minor": 0
}