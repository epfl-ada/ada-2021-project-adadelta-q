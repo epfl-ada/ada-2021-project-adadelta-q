{
 "cells": [
  {
   "cell_type": "code",
   "execution_count": 1,
   "metadata": {
    "tags": []
   },
   "outputs": [
    {
     "name": "stderr",
     "output_type": "stream",
     "text": [
      "[nltk_data] Downloading package stopwords to /home/simon/nltk_data...\n",
      "[nltk_data]   Package stopwords is already up-to-date!\n",
      "[nltk_data] Downloading package punkt to /home/simon/nltk_data...\n",
      "[nltk_data]   Package punkt is already up-to-date!\n"
     ]
    }
   ],
   "source": [
    "import pandas as pd\n",
    "from sklearn.manifold import TSNE\n",
    "import matplotlib.pyplot as plt\n",
    "%matplotlib inline\n",
    "import logging\n",
    "from importlib import reload\n",
    "from src import embeddings_filter\n",
    "from tqdm import tqdm\n",
    "import collections\n",
    "import json\n",
    "import bz2"
   ]
  },
  {
   "cell_type": "code",
   "execution_count": 3,
   "metadata": {
    "collapsed": false,
    "jupyter": {
     "outputs_hidden": false
    },
    "pycharm": {
     "name": "#%%\n"
    }
   },
   "outputs": [],
   "source": [
    "# df = pd.io.json.read_json('data/data', lines=True,encoding='utf-8', encoding_errors='ignore')\n",
    "# df.sample(10)\n",
    "list_of_dict = []\n",
    "k = 0\n",
    "with bz2.open('data/final_filtered.json.bz2', 'rb') as s_file:\n",
    "    while True:\n",
    "        try:\n",
    "            d =  json.loads(next(s_file))\n",
    "            list_of_dict.append(d)\n",
    "            k+=1\n",
    "        except StopIteration:\n",
    "            break\n",
    "\n",
    "df = pd.DataFrame(list_of_dict)"
   ]
  },
  {
   "cell_type": "code",
   "execution_count": 4,
   "metadata": {
    "collapsed": false,
    "jupyter": {
     "outputs_hidden": false
    },
    "pycharm": {
     "name": "#%%\n"
    }
   },
   "outputs": [
    {
     "data": {
      "text/plain": "       numOccurrences  cosine_similarity\ncount    2.962875e+06       2.962875e+06\nmean     2.894920e+00       2.419724e-01\nstd      2.596492e+01       2.975120e-02\nmin      1.000000e+00       1.041280e-01\n25%      1.000000e+00       2.305762e-01\n50%      1.000000e+00       2.466263e-01\n75%      2.000000e+00       2.709322e-01\nmax      2.200000e+04       2.999948e-01",
      "text/html": "<div>\n<style scoped>\n    .dataframe tbody tr th:only-of-type {\n        vertical-align: middle;\n    }\n\n    .dataframe tbody tr th {\n        vertical-align: top;\n    }\n\n    .dataframe thead th {\n        text-align: right;\n    }\n</style>\n<table border=\"1\" class=\"dataframe\">\n  <thead>\n    <tr style=\"text-align: right;\">\n      <th></th>\n      <th>numOccurrences</th>\n      <th>cosine_similarity</th>\n    </tr>\n  </thead>\n  <tbody>\n    <tr>\n      <th>count</th>\n      <td>2.962875e+06</td>\n      <td>2.962875e+06</td>\n    </tr>\n    <tr>\n      <th>mean</th>\n      <td>2.894920e+00</td>\n      <td>2.419724e-01</td>\n    </tr>\n    <tr>\n      <th>std</th>\n      <td>2.596492e+01</td>\n      <td>2.975120e-02</td>\n    </tr>\n    <tr>\n      <th>min</th>\n      <td>1.000000e+00</td>\n      <td>1.041280e-01</td>\n    </tr>\n    <tr>\n      <th>25%</th>\n      <td>1.000000e+00</td>\n      <td>2.305762e-01</td>\n    </tr>\n    <tr>\n      <th>50%</th>\n      <td>1.000000e+00</td>\n      <td>2.466263e-01</td>\n    </tr>\n    <tr>\n      <th>75%</th>\n      <td>2.000000e+00</td>\n      <td>2.709322e-01</td>\n    </tr>\n    <tr>\n      <th>max</th>\n      <td>2.200000e+04</td>\n      <td>2.999948e-01</td>\n    </tr>\n  </tbody>\n</table>\n</div>"
     },
     "execution_count": 4,
     "metadata": {},
     "output_type": "execute_result"
    }
   ],
   "source": [
    "df.describe()"
   ]
  },
  {
   "cell_type": "code",
   "execution_count": 5,
   "metadata": {
    "collapsed": false,
    "jupyter": {
     "outputs_hidden": false
    },
    "pycharm": {
     "name": "#%%\n"
    }
   },
   "outputs": [
    {
     "data": {
      "text/plain": "                   quoteID                                          quotation  \\\n1125499  2017-10-30-080123  Odd as it sounds, the stock-financed `business...   \n861249   2016-07-18-007254        Are Stock-Financed Takeovers Opportunistic?   \n490324   2015-05-14-006152  be limited by special regimes for investor-to-...   \n59700    2015-10-07-140250  Yet again, governments have put the interests ...   \n1042301  2017-10-20-118464  The more house price-financed debt you have, t...   \n2308959  2019-09-23-041330  In terms of the 2050 group, 66 governments are...   \n1028695  2017-04-06-135233  There has been huge interest, primarily from i...   \n1817597  2018-11-26-076780  That's one of the most egregious, most outrage...   \n2651240  2019-08-25-051415  What is needed is that the government should m...   \n846763   2016-07-12-090175  The involvement of the SFIO in the Winsome fra...   \n\n                     speaker                               qids  \\\n1125499         Daniel Klein             [Q36510650, Q57418775]   \n861249           Espen Eckbo   [Q18238504, Q30005183, Q5398817]   \n490324   Jean-Claude Juncker                           [Q57661]   \n59700          Sharan Burrow                         [Q2093426]   \n1042301         Evan Siddall                        [Q54912949]   \n2308959     Antonio Guterres                          [Q311440]   \n1028695     Jonathan Dickson                        [Q17198105]   \n1817597     Elizabeth Holmes  [Q17503525, Q29018469, Q55987563]   \n2651240      Priyanka Gandhi                          [Q607685]   \n846763       Zulfiquar Memon                        [Q30070350]   \n\n                        date  numOccurrences  \\\n1125499  2017-10-30 04:00:00               1   \n861249   2016-07-18 13:32:00               1   \n490324   2015-05-14 23:38:51               1   \n59700    2015-10-07 00:12:00               2   \n1042301  2017-10-20 19:46:06               1   \n2308959  2019-09-23 21:07:11               1   \n1028695  2017-04-06 07:25:00               1   \n1817597  2018-11-26 21:40:47               1   \n2651240  2019-08-25 05:44:00               6   \n846763   2016-07-12 05:09:00               1   \n\n                                                      urls  \\\n1125499  [http://www.roanoke.com/news/columns_and_blogs...   \n861249   [http://www.tuck.dartmouth.edu/news/articles/t...   \n490324   [http://dailykos.com/story/2015/05/12/1384167/...   \n59700             [http://malaysiakini.com/letters/314804]   \n1042301  [http://www.forexlive.com/news/!/cmhc-ceo-cana...   \n2308959  [http://channelnewsasia.com/news/world/sixty-s...   \n1028695  [http://www.belfasttelegraph.co.uk/news/northe...   \n1817597  [https://www.radionz.co.nz/national/programmes...   \n2651240  [http://articles.economictimes.indiatimes.com/...   \n846763   [http://economictimes.indiatimes.com/industry/...   \n\n                                                 tokenized  cosine_similarity  \n1125499  odd sound stockfinanc busi corpor better suit ...           0.104128  \n861249                are stockfinanc takeov opportunist\\n           0.104128  \n490324           limit special regim investortost disput\\n           0.115859  \n59700    yet govern put interest financ big busi ahead ...           0.115859  \n1042301  the hous pricefinanc debt like tax econom futur\\n           0.116074  \n2308959  in term 2050 group 66 govern join 10 region 10...           0.117416  \n1028695  there huge interest primarili investorscash bu...           0.121416  \n1817597  that one egregi outrag part whole stori two pe...           0.122496  \n2651240  what need govern make situat absolut clear it ...           0.122678  \n846763   the involv sfio winsom fraud welcom step in in...           0.123851  ",
      "text/html": "<div>\n<style scoped>\n    .dataframe tbody tr th:only-of-type {\n        vertical-align: middle;\n    }\n\n    .dataframe tbody tr th {\n        vertical-align: top;\n    }\n\n    .dataframe thead th {\n        text-align: right;\n    }\n</style>\n<table border=\"1\" class=\"dataframe\">\n  <thead>\n    <tr style=\"text-align: right;\">\n      <th></th>\n      <th>quoteID</th>\n      <th>quotation</th>\n      <th>speaker</th>\n      <th>qids</th>\n      <th>date</th>\n      <th>numOccurrences</th>\n      <th>urls</th>\n      <th>tokenized</th>\n      <th>cosine_similarity</th>\n    </tr>\n  </thead>\n  <tbody>\n    <tr>\n      <th>1125499</th>\n      <td>2017-10-30-080123</td>\n      <td>Odd as it sounds, the stock-financed `business...</td>\n      <td>Daniel Klein</td>\n      <td>[Q36510650, Q57418775]</td>\n      <td>2017-10-30 04:00:00</td>\n      <td>1</td>\n      <td>[http://www.roanoke.com/news/columns_and_blogs...</td>\n      <td>odd sound stockfinanc busi corpor better suit ...</td>\n      <td>0.104128</td>\n    </tr>\n    <tr>\n      <th>861249</th>\n      <td>2016-07-18-007254</td>\n      <td>Are Stock-Financed Takeovers Opportunistic?</td>\n      <td>Espen Eckbo</td>\n      <td>[Q18238504, Q30005183, Q5398817]</td>\n      <td>2016-07-18 13:32:00</td>\n      <td>1</td>\n      <td>[http://www.tuck.dartmouth.edu/news/articles/t...</td>\n      <td>are stockfinanc takeov opportunist\\n</td>\n      <td>0.104128</td>\n    </tr>\n    <tr>\n      <th>490324</th>\n      <td>2015-05-14-006152</td>\n      <td>be limited by special regimes for investor-to-...</td>\n      <td>Jean-Claude Juncker</td>\n      <td>[Q57661]</td>\n      <td>2015-05-14 23:38:51</td>\n      <td>1</td>\n      <td>[http://dailykos.com/story/2015/05/12/1384167/...</td>\n      <td>limit special regim investortost disput\\n</td>\n      <td>0.115859</td>\n    </tr>\n    <tr>\n      <th>59700</th>\n      <td>2015-10-07-140250</td>\n      <td>Yet again, governments have put the interests ...</td>\n      <td>Sharan Burrow</td>\n      <td>[Q2093426]</td>\n      <td>2015-10-07 00:12:00</td>\n      <td>2</td>\n      <td>[http://malaysiakini.com/letters/314804]</td>\n      <td>yet govern put interest financ big busi ahead ...</td>\n      <td>0.115859</td>\n    </tr>\n    <tr>\n      <th>1042301</th>\n      <td>2017-10-20-118464</td>\n      <td>The more house price-financed debt you have, t...</td>\n      <td>Evan Siddall</td>\n      <td>[Q54912949]</td>\n      <td>2017-10-20 19:46:06</td>\n      <td>1</td>\n      <td>[http://www.forexlive.com/news/!/cmhc-ceo-cana...</td>\n      <td>the hous pricefinanc debt like tax econom futur\\n</td>\n      <td>0.116074</td>\n    </tr>\n    <tr>\n      <th>2308959</th>\n      <td>2019-09-23-041330</td>\n      <td>In terms of the 2050 group, 66 governments are...</td>\n      <td>Antonio Guterres</td>\n      <td>[Q311440]</td>\n      <td>2019-09-23 21:07:11</td>\n      <td>1</td>\n      <td>[http://channelnewsasia.com/news/world/sixty-s...</td>\n      <td>in term 2050 group 66 govern join 10 region 10...</td>\n      <td>0.117416</td>\n    </tr>\n    <tr>\n      <th>1028695</th>\n      <td>2017-04-06-135233</td>\n      <td>There has been huge interest, primarily from i...</td>\n      <td>Jonathan Dickson</td>\n      <td>[Q17198105]</td>\n      <td>2017-04-06 07:25:00</td>\n      <td>1</td>\n      <td>[http://www.belfasttelegraph.co.uk/news/northe...</td>\n      <td>there huge interest primarili investorscash bu...</td>\n      <td>0.121416</td>\n    </tr>\n    <tr>\n      <th>1817597</th>\n      <td>2018-11-26-076780</td>\n      <td>That's one of the most egregious, most outrage...</td>\n      <td>Elizabeth Holmes</td>\n      <td>[Q17503525, Q29018469, Q55987563]</td>\n      <td>2018-11-26 21:40:47</td>\n      <td>1</td>\n      <td>[https://www.radionz.co.nz/national/programmes...</td>\n      <td>that one egregi outrag part whole stori two pe...</td>\n      <td>0.122496</td>\n    </tr>\n    <tr>\n      <th>2651240</th>\n      <td>2019-08-25-051415</td>\n      <td>What is needed is that the government should m...</td>\n      <td>Priyanka Gandhi</td>\n      <td>[Q607685]</td>\n      <td>2019-08-25 05:44:00</td>\n      <td>6</td>\n      <td>[http://articles.economictimes.indiatimes.com/...</td>\n      <td>what need govern make situat absolut clear it ...</td>\n      <td>0.122678</td>\n    </tr>\n    <tr>\n      <th>846763</th>\n      <td>2016-07-12-090175</td>\n      <td>The involvement of the SFIO in the Winsome fra...</td>\n      <td>Zulfiquar Memon</td>\n      <td>[Q30070350]</td>\n      <td>2016-07-12 05:09:00</td>\n      <td>1</td>\n      <td>[http://economictimes.indiatimes.com/industry/...</td>\n      <td>the involv sfio winsom fraud welcom step in in...</td>\n      <td>0.123851</td>\n    </tr>\n  </tbody>\n</table>\n</div>"
     },
     "execution_count": 5,
     "metadata": {},
     "output_type": "execute_result"
    }
   ],
   "source": [
    "df.sort_values(by='cosine_similarity',ascending=True).head(10)"
   ]
  },
  {
   "cell_type": "code",
   "execution_count": 6,
   "metadata": {
    "collapsed": false,
    "jupyter": {
     "outputs_hidden": false
    },
    "pycharm": {
     "name": "#%%\n"
    }
   },
   "outputs": [
    {
     "data": {
      "text/plain": "                   quoteID                                          quotation  \\\n1841105  2018-05-17-105517  The additional projects registered in April ma...   \n1884603  2018-08-24-029939  I said I was shocked and angered by this state...   \n2928190  2020-02-14-046965  Investors consider Singapore real estate as a ...   \n675345   2016-02-16-090423  Social mobile gaming company Zynga made Wall S...   \n2848494  2020-04-14-014677  Globally, investors have access to a variety o...   \n1403146  2017-05-20-030374  India is one of the largest investors in Afric...   \n826362   2016-09-22-145056  We have successfully concluded the state's dom...   \n1331818  2017-07-18-011855  BioLabs NC and its connections to national inv...   \n986455   2017-07-14-041010  I sent a mission to Indonesia of my staff [ fr...   \n278811   2015-11-11-092963  the bill of goods O’Leary has sold investors i...   \n1495990  2017-05-01-092673  The naturals proposition has now become fairly...   \n1272213  2017-06-20-104966  The US market looks the most vulnerable across...   \n2163331  2018-09-13-110560  There are companies that are run by their inve...   \n281077   2015-02-13-092085  We are also looking at innovative financing mo...   \n1932519  2018-04-17-082474  Large-scale capital investments-like Aurora's ...   \n\n                   speaker                                          qids  \\\n1841105        Ramon Lopez              [Q1371814, Q28421676, Q30071546]   \n1884603      Mcebisi Jonas                                   [Q22278431]   \n2928190           Han Huan  [Q45526188, Q45527839, Q45540669, Q45698257]   \n675345      Dean Takahashi                                    [Q4450128]   \n2848494         Rahul Jain                        [Q19560843, Q47427974]   \n1403146   Akinwumi Adesina                                   [Q18097239]   \n826362        Raghubar Das                                    [Q7282990]   \n1331818      Larry Robbins                                   [Q18157398]   \n986455   Eisuke Sakakibara                                    [Q5384340]   \n278811        Mark McQueen                                    [Q6768841]   \n1495990       Sunil Duggal                                    [Q7640291]   \n1272213       Luca Paolini                [Q3838260, Q456878, Q57419360]   \n2163331       Freeman Shen                                   [Q26915346]   \n281077        Piyush Goyal                                    [Q7199798]   \n1932519       Deron Bilous                                    [Q5262909]   \n\n                        date  numOccurrences  \\\n1841105  2018-05-17 00:19:00               1   \n1884603  2018-08-24 00:00:00               5   \n2928190  2020-02-14 16:13:37               1   \n675345   2016-02-16 09:37:52               1   \n2848494  2020-04-14 13:50:00               1   \n1403146  2017-05-20 15:45:50               1   \n826362   2016-09-22 00:00:00               1   \n1331818  2017-07-18 15:54:14               1   \n986455   2017-07-14 07:00:35               1   \n278811   2015-11-11 19:15:37               1   \n1495990  2017-05-01 19:37:00               2   \n1272213  2017-06-20 14:32:48               1   \n2163331  2018-09-13 06:09:19               1   \n281077   2015-02-13 10:28:03               2   \n1932519  2018-04-17 11:12:36               1   \n\n                                                      urls  \\\n1841105  [http://www.sunstar.com.ph/article/1743548/Ceb...   \n1884603  [https://punchng.com/south-african-politician-...   \n2928190  [https://www.etftrends.com/smart-beta-channel/...   \n675345   [http://www.politico.com/tipsheets/california-...   \n2848494  [https://www.businesstoday.in/money/investment...   \n1403146  [http://www.firstpost.com/india/narendra-modi-...   \n826362   [http://www.moneycontrol.com/news/economy/jhar...   \n1331818  [http://wraltechwire.com/new-coworking-space-f...   \n986455   [http://www.atimes.com/article/japans-mr-yen-l...   \n278811   [http://www.theglobeandmail.com/report-on-busi...   \n1495990  [http://www.business-standard.com/article/comp...   \n1272213  [http://www.morningstar.co.uk/uk/news/159497/‘...   \n2163331  [https://asia.nikkei.com/Spotlight/Electric-ca...   \n281077   [http://www.dailyexcelsior.com/goyal-innovativ...   \n1932519  [http://www.stockhouse.com/companies/bullboard...   \n\n                                                 tokenized  cosine_similarity  \n1841105  the addit project regist april mayb moder come...           0.148571  \n1884603  i said i shock anger statement i interest beco...           0.189155  \n2928190  investor consid singapor real estat safe asset...           0.148571  \n675345   social mobil game compani zynga made wall stre...           0.148571  \n2848494  global investor access varieti fund mirror var...           0.148571  \n1403146  india one largest investor africa 1999 2016 in...           0.148571  \n826362   we success conclud state domest invest promot ...           0.153490  \n1331818  biolab nc connect nation investor pharma partn...           0.148571  \n986455   i sent mission indonesia staff japan ministri ...           0.189155  \n278811    bill good o ’ leari sold investor bad industri\\n           0.148571  \n1495990  the natur proposit becom fairli gener vatika u...           0.148571  \n1272213  the us market look vulner across global market...           0.148571  \n2163331  there compani run investor compani made car pa...           0.148571  \n281077   we also look innov financ model provid adequ f...           0.148571  \n1932519  largescal capit investmentslik aurora essenti ...           0.189279  ",
      "text/html": "<div>\n<style scoped>\n    .dataframe tbody tr th:only-of-type {\n        vertical-align: middle;\n    }\n\n    .dataframe tbody tr th {\n        vertical-align: top;\n    }\n\n    .dataframe thead th {\n        text-align: right;\n    }\n</style>\n<table border=\"1\" class=\"dataframe\">\n  <thead>\n    <tr style=\"text-align: right;\">\n      <th></th>\n      <th>quoteID</th>\n      <th>quotation</th>\n      <th>speaker</th>\n      <th>qids</th>\n      <th>date</th>\n      <th>numOccurrences</th>\n      <th>urls</th>\n      <th>tokenized</th>\n      <th>cosine_similarity</th>\n    </tr>\n  </thead>\n  <tbody>\n    <tr>\n      <th>1841105</th>\n      <td>2018-05-17-105517</td>\n      <td>The additional projects registered in April ma...</td>\n      <td>Ramon Lopez</td>\n      <td>[Q1371814, Q28421676, Q30071546]</td>\n      <td>2018-05-17 00:19:00</td>\n      <td>1</td>\n      <td>[http://www.sunstar.com.ph/article/1743548/Ceb...</td>\n      <td>the addit project regist april mayb moder come...</td>\n      <td>0.148571</td>\n    </tr>\n    <tr>\n      <th>1884603</th>\n      <td>2018-08-24-029939</td>\n      <td>I said I was shocked and angered by this state...</td>\n      <td>Mcebisi Jonas</td>\n      <td>[Q22278431]</td>\n      <td>2018-08-24 00:00:00</td>\n      <td>5</td>\n      <td>[https://punchng.com/south-african-politician-...</td>\n      <td>i said i shock anger statement i interest beco...</td>\n      <td>0.189155</td>\n    </tr>\n    <tr>\n      <th>2928190</th>\n      <td>2020-02-14-046965</td>\n      <td>Investors consider Singapore real estate as a ...</td>\n      <td>Han Huan</td>\n      <td>[Q45526188, Q45527839, Q45540669, Q45698257]</td>\n      <td>2020-02-14 16:13:37</td>\n      <td>1</td>\n      <td>[https://www.etftrends.com/smart-beta-channel/...</td>\n      <td>investor consid singapor real estat safe asset...</td>\n      <td>0.148571</td>\n    </tr>\n    <tr>\n      <th>675345</th>\n      <td>2016-02-16-090423</td>\n      <td>Social mobile gaming company Zynga made Wall S...</td>\n      <td>Dean Takahashi</td>\n      <td>[Q4450128]</td>\n      <td>2016-02-16 09:37:52</td>\n      <td>1</td>\n      <td>[http://www.politico.com/tipsheets/california-...</td>\n      <td>social mobil game compani zynga made wall stre...</td>\n      <td>0.148571</td>\n    </tr>\n    <tr>\n      <th>2848494</th>\n      <td>2020-04-14-014677</td>\n      <td>Globally, investors have access to a variety o...</td>\n      <td>Rahul Jain</td>\n      <td>[Q19560843, Q47427974]</td>\n      <td>2020-04-14 13:50:00</td>\n      <td>1</td>\n      <td>[https://www.businesstoday.in/money/investment...</td>\n      <td>global investor access varieti fund mirror var...</td>\n      <td>0.148571</td>\n    </tr>\n    <tr>\n      <th>1403146</th>\n      <td>2017-05-20-030374</td>\n      <td>India is one of the largest investors in Afric...</td>\n      <td>Akinwumi Adesina</td>\n      <td>[Q18097239]</td>\n      <td>2017-05-20 15:45:50</td>\n      <td>1</td>\n      <td>[http://www.firstpost.com/india/narendra-modi-...</td>\n      <td>india one largest investor africa 1999 2016 in...</td>\n      <td>0.148571</td>\n    </tr>\n    <tr>\n      <th>826362</th>\n      <td>2016-09-22-145056</td>\n      <td>We have successfully concluded the state's dom...</td>\n      <td>Raghubar Das</td>\n      <td>[Q7282990]</td>\n      <td>2016-09-22 00:00:00</td>\n      <td>1</td>\n      <td>[http://www.moneycontrol.com/news/economy/jhar...</td>\n      <td>we success conclud state domest invest promot ...</td>\n      <td>0.153490</td>\n    </tr>\n    <tr>\n      <th>1331818</th>\n      <td>2017-07-18-011855</td>\n      <td>BioLabs NC and its connections to national inv...</td>\n      <td>Larry Robbins</td>\n      <td>[Q18157398]</td>\n      <td>2017-07-18 15:54:14</td>\n      <td>1</td>\n      <td>[http://wraltechwire.com/new-coworking-space-f...</td>\n      <td>biolab nc connect nation investor pharma partn...</td>\n      <td>0.148571</td>\n    </tr>\n    <tr>\n      <th>986455</th>\n      <td>2017-07-14-041010</td>\n      <td>I sent a mission to Indonesia of my staff [ fr...</td>\n      <td>Eisuke Sakakibara</td>\n      <td>[Q5384340]</td>\n      <td>2017-07-14 07:00:35</td>\n      <td>1</td>\n      <td>[http://www.atimes.com/article/japans-mr-yen-l...</td>\n      <td>i sent mission indonesia staff japan ministri ...</td>\n      <td>0.189155</td>\n    </tr>\n    <tr>\n      <th>278811</th>\n      <td>2015-11-11-092963</td>\n      <td>the bill of goods O’Leary has sold investors i...</td>\n      <td>Mark McQueen</td>\n      <td>[Q6768841]</td>\n      <td>2015-11-11 19:15:37</td>\n      <td>1</td>\n      <td>[http://www.theglobeandmail.com/report-on-busi...</td>\n      <td>bill good o ’ leari sold investor bad industri\\n</td>\n      <td>0.148571</td>\n    </tr>\n    <tr>\n      <th>1495990</th>\n      <td>2017-05-01-092673</td>\n      <td>The naturals proposition has now become fairly...</td>\n      <td>Sunil Duggal</td>\n      <td>[Q7640291]</td>\n      <td>2017-05-01 19:37:00</td>\n      <td>2</td>\n      <td>[http://www.business-standard.com/article/comp...</td>\n      <td>the natur proposit becom fairli gener vatika u...</td>\n      <td>0.148571</td>\n    </tr>\n    <tr>\n      <th>1272213</th>\n      <td>2017-06-20-104966</td>\n      <td>The US market looks the most vulnerable across...</td>\n      <td>Luca Paolini</td>\n      <td>[Q3838260, Q456878, Q57419360]</td>\n      <td>2017-06-20 14:32:48</td>\n      <td>1</td>\n      <td>[http://www.morningstar.co.uk/uk/news/159497/‘...</td>\n      <td>the us market look vulner across global market...</td>\n      <td>0.148571</td>\n    </tr>\n    <tr>\n      <th>2163331</th>\n      <td>2018-09-13-110560</td>\n      <td>There are companies that are run by their inve...</td>\n      <td>Freeman Shen</td>\n      <td>[Q26915346]</td>\n      <td>2018-09-13 06:09:19</td>\n      <td>1</td>\n      <td>[https://asia.nikkei.com/Spotlight/Electric-ca...</td>\n      <td>there compani run investor compani made car pa...</td>\n      <td>0.148571</td>\n    </tr>\n    <tr>\n      <th>281077</th>\n      <td>2015-02-13-092085</td>\n      <td>We are also looking at innovative financing mo...</td>\n      <td>Piyush Goyal</td>\n      <td>[Q7199798]</td>\n      <td>2015-02-13 10:28:03</td>\n      <td>2</td>\n      <td>[http://www.dailyexcelsior.com/goyal-innovativ...</td>\n      <td>we also look innov financ model provid adequ f...</td>\n      <td>0.148571</td>\n    </tr>\n    <tr>\n      <th>1932519</th>\n      <td>2018-04-17-082474</td>\n      <td>Large-scale capital investments-like Aurora's ...</td>\n      <td>Deron Bilous</td>\n      <td>[Q5262909]</td>\n      <td>2018-04-17 11:12:36</td>\n      <td>1</td>\n      <td>[http://www.stockhouse.com/companies/bullboard...</td>\n      <td>largescal capit investmentslik aurora essenti ...</td>\n      <td>0.189279</td>\n    </tr>\n  </tbody>\n</table>\n</div>"
     },
     "execution_count": 6,
     "metadata": {},
     "output_type": "execute_result"
    }
   ],
   "source": [
    "df[df.quantile(q=0.05)['cosine_similarity'] >df['cosine_similarity']].sample(15)"
   ]
  },
  {
   "cell_type": "code",
   "execution_count": 76,
   "metadata": {
    "collapsed": false,
    "jupyter": {
     "outputs_hidden": false
    },
    "pycharm": {
     "name": "#%%\n"
    }
   },
   "outputs": [],
   "source": [
    "df[df.quantile(q=0.05)['cosine_similarity'] >df['cosine_similarity']].to_pickle('sample_data.pkl.zip')"
   ]
  },
  {
   "cell_type": "markdown",
   "metadata": {
    "pycharm": {
     "name": "#%% md\n"
    }
   },
   "source": [
    "## Preprocessing\n",
    "We have the following stats for the preprocessing:\n",
    "Finished initial Preprocessing\n",
    "Total processed Quotes:  20874338\n",
    "Of which no speaker:  7016300\n",
    "Of which uncertain:  6560\n",
    "Of which not tokenizable:  0\n",
    "Total Quotes written:  13851478\n",
    "avg similarity:  0.5109067554857766\n",
    "median similarity:  0.4909448027610779\n",
    "\n",
    "## Filtering\n",
    "We load our pretrained fasttext model. We test the model by finding the closet terms to market."
   ]
  },
  {
   "cell_type": "code",
   "execution_count": 2,
   "metadata": {
    "collapsed": false,
    "jupyter": {
     "outputs_hidden": false
    },
    "pycharm": {
     "name": "#%%\n"
    }
   },
   "outputs": [
    {
     "name": "stderr",
     "output_type": "stream",
     "text": [
      "[nltk_data] Downloading package stopwords to /home/simon/nltk_data...\n",
      "[nltk_data]   Package stopwords is already up-to-date!\n",
      "[nltk_data] Downloading package punkt to /home/simon/nltk_data...\n",
      "[nltk_data]   Package punkt is already up-to-date!\n",
      "Warning : `load_model` does not return WordVectorModel or SupervisedModel any more, but a `FastText` object which is very similar.\n"
     ]
    },
    {
     "data": {
      "text/plain": [
       "[(0.950352668762207, 'marketq'),\n",
       " (0.9497827887535095, 'marketg'),\n",
       " (0.948558509349823, 'market6'),\n",
       " (0.9429478049278259, 'marketbymarket'),\n",
       " (0.9422717094421387, 'marketyet'),\n",
       " (0.9384009838104248, 'marketpric'),\n",
       " (0.9382206797599792, 'marketit'),\n",
       " (0.9377272725105286, 'onmarket'),\n",
       " (0.9374149441719055, 'marketgo'),\n",
       " (0.9372236728668213, 'marketsit')]"
      ]
     },
     "execution_count": 2,
     "metadata": {},
     "output_type": "execute_result"
    }
   ],
   "source": [
    "# convenience for faster testing in notebook\n",
    "reload(embeddings_filter)\n",
    "\n",
    "model = embeddings_filter.load_embeddings(get_model=True)\n",
    "model.get_nearest_neighbors('market')"
   ]
  },
  {
   "cell_type": "markdown",
   "metadata": {
    "pycharm": {
     "name": "#%% md\n"
    }
   },
   "source": [
    "As we can see, they are almost synonyms as expected.\n",
    "\n",
    "We define our keywords and setup functions to measure the similarity:"
   ]
  },
  {
   "cell_type": "code",
   "execution_count": 24,
   "metadata": {
    "collapsed": false,
    "jupyter": {
     "outputs_hidden": false
    },
    "pycharm": {
     "name": "#%%\n"
    }
   },
   "outputs": [
    {
     "name": "stdout",
     "output_type": "stream",
     "text": [
      "Simiarity failed for:  to have all that.\n",
      "Simiarity failed for:  is not what we're about.\n"
     ]
    }
   ],
   "source": [
    "# setup\n",
    "keywords = ['market','stocks', 'trade', 'bonds']\n",
    "similarity = embeddings_filter.get_similarity_measure(keywords, model)\n",
    "generator = embeddings_filter.data_gen()\n",
    "\n",
    "PROBABILITY_THRESHOLD = 0.5\n",
    "\n",
    "i = 0\n",
    "speakers = collections.defaultdict(list)\n",
    "for data in generator:\n",
    "    # Ignore if speaker is uncertain or none\n",
    "    if data['speaker'] == 'None' or float(data['probas'][0][1]) < PROBABILITY_THRESHOLD:\n",
    "        continue\n",
    "    score = similarity(data['quotation'])\n",
    "    if score == 0:\n",
    "        continue\n",
    "    speakers[data['speaker']].append(similarity(data['quotation']))\n",
    "\n",
    "    i += 1\n",
    "    if i > 100000:\n",
    "        break"
   ]
  },
  {
   "cell_type": "code",
   "execution_count": 25,
   "metadata": {
    "collapsed": false,
    "jupyter": {
     "outputs_hidden": false
    },
    "pycharm": {
     "name": "#%%\n"
    }
   },
   "outputs": [],
   "source": [
    "for k in speakers:\n",
    "    speakers[k] = sum(speakers[k])/len(speakers[k])"
   ]
  },
  {
   "cell_type": "code",
   "execution_count": 26,
   "metadata": {
    "collapsed": false,
    "jupyter": {
     "outputs_hidden": false
    },
    "pycharm": {
     "name": "#%%\n"
    }
   },
   "outputs": [
    {
     "data": {
      "text/plain": [
       "array([[<AxesSubplot:title={'center':'similarity'}>]], dtype=object)"
      ]
     },
     "execution_count": 26,
     "metadata": {},
     "output_type": "execute_result"
    },
    {
     "data": {
      "image/png": "[encoded data removed]",
      "text/plain": [
       "<Figure size 432x288 with 1 Axes>"
      ]
     },
     "metadata": {
      "needs_background": "light"
     },
     "output_type": "display_data"
    }
   ],
   "source": [
    "speakers_df = pd.DataFrame.from_dict(speakers, orient='index', columns=['similarity']).sort_values('similarity', ascending=False)\n",
    "speakers_df.hist()"
   ]
  },
  {
   "cell_type": "code",
   "execution_count": null,
   "metadata": {
    "collapsed": false,
    "jupyter": {
     "outputs_hidden": false
    },
    "pycharm": {
     "name": "#%%\n"
    }
   },
   "outputs": [],
   "source": []
  }
 ],
 "metadata": {
  "kernelspec": {
   "display_name": "Python",
   "language": "python",
   "name": "python3"
  },
  "language_info": {
   "codemirror_mode": {
    "name": "ipython",
    "version": 3
   },
   "file_extension": ".py",
   "mimetype": "text/x-python",
   "name": "python",
   "nbconvert_exporter": "python",
   "pygments_lexer": "ipython3",
   "version": "3.8.10"
  }
 },
 "nbformat": 4,
 "nbformat_minor": 4
}